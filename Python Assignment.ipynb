{
 "cells": [
  {
   "cell_type": "markdown",
   "metadata": {},
   "source": [
    "### FOR Loop"
   ]
  },
  {
   "cell_type": "markdown",
   "metadata": {},
   "source": [
    "1. Write a Python program to print numbers from 1 to 10 using a for loop."
   ]
  },
  {
   "cell_type": "code",
   "execution_count": 1,
   "metadata": {},
   "outputs": [
    {
     "name": "stdout",
     "output_type": "stream",
     "text": [
      "1 2 3 4 5 6 7 8 9 10 "
     ]
    }
   ],
   "source": [
    "for i in range(1,11):\n",
    "    print(i, end=' ')"
   ]
  },
  {
   "cell_type": "markdown",
   "metadata": {},
   "source": [
    "2. Explain the difference between a for loop and a while loop in Python."
   ]
  },
  {
   "cell_type": "markdown",
   "metadata": {},
   "source": [
    "For Loop:\n",
    "\n",
    "A for loop is used for iterating over a sequence (such as a list, tuple, string, or range) and executing a block of code a specific number of times.\n",
    "The syntax for a for loop looks like this:\n",
    "Python\n",
    "\n",
    "`for item in sequence:\n",
    "    # Code to execute`\n",
    "\n",
    "Here’s what happens:\n",
    "- The loop variable (item in the example above) takes on each value from the sequence one by one.\n",
    "- The indented code block inside the loop is executed for each value of item.\n",
    "- Once all values have been processed, the loop terminates.\n",
    "\n",
    "\n",
    "\n"
   ]
  },
  {
   "cell_type": "code",
   "execution_count": 2,
   "metadata": {},
   "outputs": [
    {
     "name": "stdout",
     "output_type": "stream",
     "text": [
      "apple\n",
      "banana\n",
      "cherry\n"
     ]
    }
   ],
   "source": [
    "fruits = [\"apple\", \"banana\", \"cherry\"]\n",
    "for fruit in fruits:\n",
    "    print(fruit)"
   ]
  },
  {
   "cell_type": "markdown",
   "metadata": {},
   "source": [
    "\n",
    "\n",
    "While Loop:\n",
    "\n",
    "A while loop continues executing a block of code as long as a specified condition remains True.\n",
    "The syntax for a while loop is as follows:\n",
    "Python\n",
    "\n",
    "`while condition:\n",
    "    # Code to execute`\n",
    "\n",
    "\n",
    "Key points:\n",
    "- The condition is checked before each iteration. If it evaluates to True, the loop continues; otherwise, it stops.\n",
    "- Be cautious! If the condition never becomes False, you might end up with an infinite loop.\n",
    "- You need to manually update the variables inside the loop to eventually make the condition False.\n",
    "Example:\n"
   ]
  },
  {
   "cell_type": "code",
   "execution_count": 3,
   "metadata": {},
   "outputs": [
    {
     "name": "stdout",
     "output_type": "stream",
     "text": [
      "Count is 0\n",
      "Count is 1\n",
      "Count is 2\n",
      "Count is 3\n",
      "Count is 4\n"
     ]
    }
   ],
   "source": [
    "count = 0\n",
    "while count < 5:\n",
    "    print(f\"Count is {count}\")\n",
    "    count += 1"
   ]
  },
  {
   "cell_type": "markdown",
   "metadata": {},
   "source": [
    "3. Write a Python program to calculate the sum of all numbers from 1 to 100 using a for loop."
   ]
  },
  {
   "cell_type": "code",
   "execution_count": 8,
   "metadata": {},
   "outputs": [
    {
     "name": "stdout",
     "output_type": "stream",
     "text": [
      "5050\n"
     ]
    }
   ],
   "source": [
    "sum = 0\n",
    "for i in range(0,101):\n",
    "    sum+=i\n",
    "print(sum)"
   ]
  },
  {
   "cell_type": "markdown",
   "metadata": {},
   "source": [
    "4. How do you iterate through a list using a for loop in Python?"
   ]
  },
  {
   "cell_type": "code",
   "execution_count": 10,
   "metadata": {},
   "outputs": [
    {
     "name": "stdout",
     "output_type": "stream",
     "text": [
      "101\n",
      "Apple\n",
      "True\n",
      "3.14\n"
     ]
    }
   ],
   "source": [
    "l = [101, 'Apple', True, 3.14]\n",
    "for i in l:\n",
    "    print(i)"
   ]
  },
  {
   "cell_type": "markdown",
   "metadata": {},
   "source": [
    "5. Write a Python program to find the product of all elements in a list using a for loop."
   ]
  },
  {
   "cell_type": "code",
   "execution_count": 11,
   "metadata": {},
   "outputs": [
    {
     "name": "stdout",
     "output_type": "stream",
     "text": [
      "120\n"
     ]
    }
   ],
   "source": [
    "l = [1,2,3,4,5]\n",
    "multiply = 1\n",
    "for i in l:\n",
    "    multiply*=i\n",
    "print(multiply)"
   ]
  },
  {
   "cell_type": "markdown",
   "metadata": {},
   "source": [
    "6. Create a Python program that prints all even numbers from 1 to 20 using a for loop."
   ]
  },
  {
   "cell_type": "code",
   "execution_count": 12,
   "metadata": {},
   "outputs": [
    {
     "data": {
      "text/plain": [
       "[2, 4, 6, 8, 10, 12, 14, 16, 18, 20]"
      ]
     },
     "execution_count": 12,
     "metadata": {},
     "output_type": "execute_result"
    }
   ],
   "source": [
    "even = [i for i in range(1,21) if i % 2 == 0]\n",
    "even"
   ]
  },
  {
   "cell_type": "markdown",
   "metadata": {},
   "source": [
    "7. Write a Python program that calculates the factorial of a number using a for loop.\n"
   ]
  },
  {
   "cell_type": "code",
   "execution_count": 15,
   "metadata": {},
   "outputs": [
    {
     "data": {
      "text/plain": [
       "120"
      ]
     },
     "execution_count": 15,
     "metadata": {},
     "output_type": "execute_result"
    }
   ],
   "source": [
    "def factorial(num):\n",
    "    multiply = 1\n",
    "    for i in range(1,num+1):\n",
    "        multiply*=i\n",
    "    return multiply\n",
    "factorial(5)"
   ]
  },
  {
   "cell_type": "markdown",
   "metadata": {},
   "source": [
    "8. How can you iterate through the characters of a string using a for loop in Python?"
   ]
  },
  {
   "cell_type": "code",
   "execution_count": 16,
   "metadata": {},
   "outputs": [
    {
     "name": "stdout",
     "output_type": "stream",
     "text": [
      "H\n",
      "e\n",
      "l\n",
      "l\n",
      "o\n",
      ",\n",
      " \n",
      "W\n",
      "o\n",
      "r\n",
      "l\n",
      "d\n",
      "!\n"
     ]
    }
   ],
   "source": [
    "string = \"Hello, World!\"\n",
    "for i in string:\n",
    "    print(i)"
   ]
  },
  {
   "cell_type": "markdown",
   "metadata": {},
   "source": [
    "9. Write a Python program to find the largest number in a list using a for loop.\n"
   ]
  },
  {
   "cell_type": "code",
   "execution_count": 20,
   "metadata": {},
   "outputs": [
    {
     "name": "stdout",
     "output_type": "stream",
     "text": [
      "Maximum element: 5\n"
     ]
    }
   ],
   "source": [
    "l = [1,4,2,5,3]\n",
    "max_element = float(\"-inf\")\n",
    "for i in l:\n",
    "    max_element = max(max_element, i)\n",
    "print(\"Maximum element:\", max_element)"
   ]
  },
  {
   "cell_type": "markdown",
   "metadata": {},
   "source": [
    "10. Create a Python program that prints the Fibonacci sequence up to a specified limit using a for loop"
   ]
  },
  {
   "cell_type": "code",
   "execution_count": 21,
   "metadata": {},
   "outputs": [
    {
     "name": "stdout",
     "output_type": "stream",
     "text": [
      "Fibonacci sequence: [0, 1, 1, 2, 3, 5, 8, 13, 21, 34]\n"
     ]
    }
   ],
   "source": [
    "n = 10\n",
    "fib_sequence = [0, 1]\n",
    "for i in range(2, n):\n",
    "    next_fib = fib_sequence[-1] + fib_sequence[-2]\n",
    "    fib_sequence.append(next_fib)\n",
    "print(\"Fibonacci sequence:\", fib_sequence)"
   ]
  },
  {
   "cell_type": "markdown",
   "metadata": {},
   "source": [
    "11. Write a Python program to count the number of vowels in a given string using a for loop.\n"
   ]
  },
  {
   "cell_type": "code",
   "execution_count": 23,
   "metadata": {},
   "outputs": [
    {
     "name": "stdout",
     "output_type": "stream",
     "text": [
      "Number of vowels: 2\n"
     ]
    }
   ],
   "source": [
    "def count_vowels(s):\n",
    "    vowels = \"aeiouAEIOU\"\n",
    "    count = 0\n",
    "    for char in s:\n",
    "        if char in vowels:\n",
    "            count += 1\n",
    "    return count\n",
    "\n",
    "input_string = input(\"Enter a string: \")\n",
    "print(f\"Number of vowels: {count_vowels(input_string)}\")"
   ]
  },
  {
   "cell_type": "markdown",
   "metadata": {},
   "source": [
    "12. Create a Python program that generates a multiplication table for a given number using a for\n",
    "loop.\n"
   ]
  },
  {
   "cell_type": "code",
   "execution_count": 24,
   "metadata": {},
   "outputs": [
    {
     "name": "stdout",
     "output_type": "stream",
     "text": [
      "5 x 1 = 5\n",
      "5 x 2 = 10\n",
      "5 x 3 = 15\n",
      "5 x 4 = 20\n",
      "5 x 5 = 25\n",
      "5 x 6 = 30\n",
      "5 x 7 = 35\n",
      "5 x 8 = 40\n",
      "5 x 9 = 45\n",
      "5 x 10 = 50\n"
     ]
    }
   ],
   "source": [
    "def generate_multiplication_table(number):\n",
    "    for i in range(1, 11):\n",
    "        print(f\"{number} x {i} = {number * i}\")\n",
    "\n",
    "user_number = int(input(\"Enter a number: \"))\n",
    "generate_multiplication_table(user_number)"
   ]
  },
  {
   "cell_type": "markdown",
   "metadata": {},
   "source": [
    "13. Write a Python program to reverse a list using a for loop.\n"
   ]
  },
  {
   "cell_type": "code",
   "execution_count": 25,
   "metadata": {},
   "outputs": [
    {
     "name": "stdout",
     "output_type": "stream",
     "text": [
      "Reversed list: [5, 4, 3, 2, 1]\n"
     ]
    }
   ],
   "source": [
    "def reverse_list(lst):\n",
    "    reversed_lst = []\n",
    "    for item in lst[::-1]:\n",
    "        reversed_lst.append(item)\n",
    "    return reversed_lst\n",
    "\n",
    "original_list = [1, 2, 3, 4, 5]\n",
    "reversed_result = reverse_list(original_list)\n",
    "print(f\"Reversed list: {reversed_result}\")"
   ]
  },
  {
   "cell_type": "markdown",
   "metadata": {},
   "source": [
    "14. Write a Python program to find the common elements between two lists using a for loop.\n"
   ]
  },
  {
   "cell_type": "code",
   "execution_count": 26,
   "metadata": {},
   "outputs": [
    {
     "name": "stdout",
     "output_type": "stream",
     "text": [
      "Common elements: [3, 4]\n"
     ]
    }
   ],
   "source": [
    "def common_elements(list1, list2):\n",
    "    common = []\n",
    "    for item in list1:\n",
    "        if item in list2:\n",
    "            common.append(item)\n",
    "    return common\n",
    "\n",
    "list_a = [1, 2, 3, 4]\n",
    "list_b = [3, 4, 5, 6]\n",
    "common_result = common_elements(list_a, list_b)\n",
    "print(f\"Common elements: {common_result}\")"
   ]
  },
  {
   "cell_type": "markdown",
   "metadata": {},
   "source": [
    "15. Explain how to use a for loop to iterate through the keys and values of a dictionary in Python.\n"
   ]
  },
  {
   "cell_type": "code",
   "execution_count": 27,
   "metadata": {},
   "outputs": [
    {
     "name": "stdout",
     "output_type": "stream",
     "text": [
      "Key: apple, Value: 3\n",
      "Key: banana, Value: 2\n",
      "Key: cherry, Value: 5\n"
     ]
    }
   ],
   "source": [
    "my_dict = {\"apple\": 3, \"banana\": 2, \"cherry\": 5}\n",
    "for key, value in my_dict.items():\n",
    "    print(f\"Key: {key}, Value: {value}\")"
   ]
  },
  {
   "cell_type": "markdown",
   "metadata": {},
   "source": [
    "16. Write a Python program to find the GCD (Greatest Common Divisor) of two numbers using a for\n",
    "loop.\n"
   ]
  },
  {
   "cell_type": "code",
   "execution_count": 29,
   "metadata": {},
   "outputs": [
    {
     "name": "stdout",
     "output_type": "stream",
     "text": [
      "GCD of 36 and 48 is 12\n"
     ]
    }
   ],
   "source": [
    "def gcd(a, b):\n",
    "    while b:\n",
    "        a, b = b, a % b\n",
    "    return a\n",
    "\n",
    "\n",
    "num1 = 36\n",
    "num2 = 48\n",
    "result = gcd(num1, num2)\n",
    "print(f\"GCD of {num1} and {num2} is {result}\")"
   ]
  },
  {
   "cell_type": "markdown",
   "metadata": {},
   "source": [
    "17. Create a Python program that checks if a string is a palindrome using a for loop.\n"
   ]
  },
  {
   "cell_type": "code",
   "execution_count": 33,
   "metadata": {},
   "outputs": [
    {
     "name": "stdout",
     "output_type": "stream",
     "text": [
      "It's a palindrome!\n"
     ]
    }
   ],
   "source": [
    "def is_palindrome(s):\n",
    "    s = s.lower()  \n",
    "    for i in range(len(s) // 2):\n",
    "        if s[i] != s[-(i + 1)]:\n",
    "            return False\n",
    "    return True\n",
    "\n",
    "user_input = input(\"Enter a string: \")\n",
    "if is_palindrome(user_input):\n",
    "    print(\"It's a palindrome!\")\n",
    "else:\n",
    "    print(\"Not a palindrome.\")"
   ]
  },
  {
   "cell_type": "markdown",
   "metadata": {},
   "source": [
    "18. Write a Python program to remove duplicates from a list using a for loop.\n"
   ]
  },
  {
   "cell_type": "code",
   "execution_count": 34,
   "metadata": {},
   "outputs": [
    {
     "name": "stdout",
     "output_type": "stream",
     "text": [
      "List without duplicates: [1, 2, 3, 4, 5]\n"
     ]
    }
   ],
   "source": [
    "def remove_duplicates(lst):\n",
    "    unique_list = []\n",
    "    for item in lst:\n",
    "        if item not in unique_list:\n",
    "            unique_list.append(item)\n",
    "    return unique_list\n",
    "\n",
    "original_list = [1, 2, 2, 3, 4, 4, 5]\n",
    "result_without_duplicates = remove_duplicates(original_list)\n",
    "print(f\"List without duplicates: {result_without_duplicates}\")"
   ]
  },
  {
   "cell_type": "markdown",
   "metadata": {},
   "source": [
    "19. Create a Python program that counts the number of words in a sentence using a for loop.\n"
   ]
  },
  {
   "cell_type": "code",
   "execution_count": 35,
   "metadata": {},
   "outputs": [
    {
     "name": "stdout",
     "output_type": "stream",
     "text": [
      "Number of words: 4\n"
     ]
    }
   ],
   "source": [
    "def count_words(sentence):\n",
    "    words = sentence.split()\n",
    "    return len(words)\n",
    "\n",
    "user_sentence = input(\"Enter a sentence: \")\n",
    "print(f\"Number of words: {count_words(user_sentence)}\")"
   ]
  },
  {
   "cell_type": "markdown",
   "metadata": {},
   "source": [
    "20. Write a Python program to find the sum of all odd numbers from 1 to 50 using a for loop.\n"
   ]
  },
  {
   "cell_type": "code",
   "execution_count": 36,
   "metadata": {},
   "outputs": [
    {
     "name": "stdout",
     "output_type": "stream",
     "text": [
      "Sum of odd numbers from 1 to 50: 625\n"
     ]
    }
   ],
   "source": [
    "odd_sum = 0\n",
    "for num in range(1, 51):\n",
    "    if num % 2 != 0:\n",
    "        odd_sum += num\n",
    "print(f\"Sum of odd numbers from 1 to 50: {odd_sum}\")"
   ]
  },
  {
   "cell_type": "markdown",
   "metadata": {},
   "source": [
    "21. Write a Python program that checks if a given year is a leap year using a for loop.\n"
   ]
  },
  {
   "cell_type": "code",
   "execution_count": 37,
   "metadata": {},
   "outputs": [
    {
     "name": "stdout",
     "output_type": "stream",
     "text": [
      "2024 is a leap year!\n"
     ]
    }
   ],
   "source": [
    "def is_leap_year(year):\n",
    "    if (year % 4 == 0 and year % 100 != 0) or (year % 400 == 0):\n",
    "        return True\n",
    "    return False\n",
    "\n",
    "user_year = int(input(\"Enter a year: \"))\n",
    "if is_leap_year(user_year):\n",
    "    print(f\"{user_year} is a leap year!\")\n",
    "else:\n",
    "    print(f\"{user_year} is not a leap year.\")"
   ]
  },
  {
   "cell_type": "markdown",
   "metadata": {},
   "source": [
    "22. Create a Python program that calculates the square root of a number using a for loop.\n"
   ]
  },
  {
   "cell_type": "code",
   "execution_count": 38,
   "metadata": {},
   "outputs": [
    {
     "name": "stdout",
     "output_type": "stream",
     "text": [
      "Square root of 5.0: 2.236068\n"
     ]
    }
   ],
   "source": [
    "def square_root(number):\n",
    "    guess = number \n",
    "    for _ in range(10):  \n",
    "        guess = 0.5 * (guess + number / guess)\n",
    "    return guess\n",
    "\n",
    "user_number = float(input(\"Enter a positive number: \"))\n",
    "if user_number >= 0:\n",
    "    print(f\"Square root of {user_number}: {square_root(user_number):.6f}\")\n",
    "else:\n",
    "    print(\"Please enter a non-negative number.\")"
   ]
  },
  {
   "cell_type": "markdown",
   "metadata": {},
   "source": [
    "23. Write a Python program to find the LCM (Least Common Multiple) of two numbers using a for\n",
    "loop."
   ]
  },
  {
   "cell_type": "code",
   "execution_count": 39,
   "metadata": {},
   "outputs": [
    {
     "name": "stdout",
     "output_type": "stream",
     "text": [
      "LCM of 6 and 3 is 6\n"
     ]
    }
   ],
   "source": [
    "import math\n",
    "\n",
    "def lcm(a, b):\n",
    "    return (a * b) // math.gcd(a, b)\n",
    "\n",
    "try:\n",
    "    num1 = int(input(\"Enter the first number: \"))\n",
    "    num2 = int(input(\"Enter the second number: \"))\n",
    "\n",
    "    result = lcm(num1, num2)\n",
    "    print(f\"LCM of {num1} and {num2} is {result}\")\n",
    "except ValueError:\n",
    "    print(\"Please enter valid integer values.\")"
   ]
  },
  {
   "cell_type": "markdown",
   "metadata": {},
   "source": [
    "### If Else "
   ]
  },
  {
   "cell_type": "markdown",
   "metadata": {},
   "source": [
    "1. Write a Python program to check if a number is positive, negative, or zero using an if-else\n",
    "statement.\n"
   ]
  },
  {
   "cell_type": "code",
   "execution_count": 40,
   "metadata": {},
   "outputs": [
    {
     "name": "stdout",
     "output_type": "stream",
     "text": [
      "The number is Positive.\n"
     ]
    }
   ],
   "source": [
    "def check_number_sign(num):\n",
    "    if num > 0:\n",
    "        return \"Positive\"\n",
    "    elif num < 0:\n",
    "        return \"Negative\"\n",
    "    else:\n",
    "        return \"Zero\"\n",
    "\n",
    "user_number = float(input(\"Enter a number: \"))\n",
    "print(f\"The number is {check_number_sign(user_number)}.\")"
   ]
  },
  {
   "cell_type": "markdown",
   "metadata": {},
   "source": [
    "2. Create a Python program that checks if a given number is even or odd using an if-else statement.\n"
   ]
  },
  {
   "cell_type": "code",
   "execution_count": 41,
   "metadata": {},
   "outputs": [
    {
     "name": "stdout",
     "output_type": "stream",
     "text": [
      "The number is Even.\n"
     ]
    }
   ],
   "source": [
    "def check_even_odd(num):\n",
    "    if num % 2 == 0:\n",
    "        return \"Even\"\n",
    "    else:\n",
    "        return \"Odd\"\n",
    "\n",
    "user_number = int(input(\"Enter a number: \"))\n",
    "print(f\"The number is {check_even_odd(user_number)}.\")"
   ]
  },
  {
   "cell_type": "markdown",
   "metadata": {},
   "source": [
    "3. How can you use nested if-else statements in Python, and provide an example?\n"
   ]
  },
  {
   "cell_type": "code",
   "execution_count": 42,
   "metadata": {},
   "outputs": [
    {
     "name": "stdout",
     "output_type": "stream",
     "text": [
      "Grade: D\n"
     ]
    }
   ],
   "source": [
    "def classify_grade(score):\n",
    "    if score >= 90:\n",
    "        grade = \"A\"\n",
    "    elif score >= 80:\n",
    "        grade = \"B\"\n",
    "    elif score >= 70:\n",
    "        grade = \"C\"\n",
    "    else:\n",
    "        grade = \"D\"\n",
    "        if score < 60:\n",
    "            grade += \" (Failing)\"\n",
    "    return grade\n",
    "\n",
    "user_score = float(input(\"Enter the student's score: \"))\n",
    "print(f\"Grade: {classify_grade(user_score)}\")"
   ]
  },
  {
   "cell_type": "markdown",
   "metadata": {},
   "source": [
    "4. Write a Python program to determine the largest of three numbers using if-else.\n"
   ]
  },
  {
   "cell_type": "code",
   "execution_count": 43,
   "metadata": {},
   "outputs": [
    {
     "name": "stdout",
     "output_type": "stream",
     "text": [
      "The largest number is 3.0.\n"
     ]
    }
   ],
   "source": [
    "def find_largest(a, b, c):\n",
    "    if a >= b and a >= c:\n",
    "        return a\n",
    "    elif b >= a and b >= c:\n",
    "        return b\n",
    "    else:\n",
    "        return c\n",
    "\n",
    "num1, num2, num3 = map(float, input(\"Enter three numbers (separated by spaces): \").split())\n",
    "print(f\"The largest number is {find_largest(num1, num2, num3)}.\")"
   ]
  },
  {
   "cell_type": "markdown",
   "metadata": {},
   "source": [
    "5. Write a Python program that calculates the absolute value of a number using if-else.\n"
   ]
  },
  {
   "cell_type": "code",
   "execution_count": 44,
   "metadata": {},
   "outputs": [
    {
     "name": "stdout",
     "output_type": "stream",
     "text": [
      "Absolute value: 52.0\n"
     ]
    }
   ],
   "source": [
    "def absolute_value(num):\n",
    "    if num >= 0:\n",
    "        return num\n",
    "    else:\n",
    "        return -num\n",
    "\n",
    "user_number = float(input(\"Enter a number: \"))\n",
    "print(f\"Absolute value: {absolute_value(user_number)}\")"
   ]
  },
  {
   "cell_type": "markdown",
   "metadata": {},
   "source": [
    "6. Create a Python program that checks if a given character is a vowel or consonant using if-else.\n"
   ]
  },
  {
   "cell_type": "code",
   "execution_count": 45,
   "metadata": {},
   "outputs": [
    {
     "name": "stdout",
     "output_type": "stream",
     "text": [
      "The character is Consonant.\n"
     ]
    }
   ],
   "source": [
    "def check_vowel_consonant(char):\n",
    "    vowels = \"aeiouAEIOU\"\n",
    "    if char.isalpha():\n",
    "        if char in vowels:\n",
    "            return \"Vowel\"\n",
    "        else:\n",
    "            return \"Consonant\"\n",
    "    else:\n",
    "        return \"Not a valid letter\"\n",
    "\n",
    "user_char = input(\"Enter a character: \")\n",
    "print(f\"The character is {check_vowel_consonant(user_char)}.\")"
   ]
  },
  {
   "cell_type": "markdown",
   "metadata": {},
   "source": [
    "7. Write a Python program to determine if a user is eligible to vote based on their age using if-else.\n"
   ]
  },
  {
   "cell_type": "code",
   "execution_count": 46,
   "metadata": {},
   "outputs": [
    {
     "name": "stdout",
     "output_type": "stream",
     "text": [
      "Eligible to vote\n"
     ]
    }
   ],
   "source": [
    "def check_voting_eligibility(age):\n",
    "    if age >= 18:\n",
    "        return \"Eligible to vote\"\n",
    "    else:\n",
    "        return \"Not eligible to vote\"\n",
    "\n",
    "user_age = int(input(\"Enter your age: \"))\n",
    "print(check_voting_eligibility(user_age))"
   ]
  },
  {
   "cell_type": "markdown",
   "metadata": {},
   "source": [
    "8. Create a Python program that calculates the discount amount based on the purchase amount\n",
    "using if-else.\n"
   ]
  },
  {
   "cell_type": "code",
   "execution_count": 47,
   "metadata": {},
   "outputs": [
    {
     "name": "stdout",
     "output_type": "stream",
     "text": [
      "Discount amount: 200.00\n"
     ]
    }
   ],
   "source": [
    "def calculate_discount(purchase_amount):\n",
    "    if purchase_amount >= 1000:\n",
    "        discount = 0.1 * purchase_amount\n",
    "    else:\n",
    "        discount = 0\n",
    "    return discount\n",
    "\n",
    "amount = float(input(\"Enter the purchase amount: \"))\n",
    "print(f\"Discount amount: {calculate_discount(amount):.2f}\")"
   ]
  },
  {
   "cell_type": "markdown",
   "metadata": {},
   "source": [
    "9. Write a Python program to check if a number is within a specified range using if-else.\n"
   ]
  },
  {
   "cell_type": "code",
   "execution_count": 48,
   "metadata": {},
   "outputs": [
    {
     "name": "stdout",
     "output_type": "stream",
     "text": [
      "Outside the specified range\n"
     ]
    }
   ],
   "source": [
    "def check_within_range(num, lower, upper):\n",
    "    if lower <= num <= upper:\n",
    "        return \"Within the specified range\"\n",
    "    else:\n",
    "        return \"Outside the specified range\"\n",
    "\n",
    "user_num = float(input(\"Enter a number: \"))\n",
    "lower_limit = 10\n",
    "upper_limit = 50\n",
    "print(check_within_range(user_num, lower_limit, upper_limit))"
   ]
  },
  {
   "cell_type": "markdown",
   "metadata": {},
   "source": [
    "10. Create a Python program that determines the grade of a student based on their score using\n",
    "if-else."
   ]
  },
  {
   "cell_type": "code",
   "execution_count": 49,
   "metadata": {},
   "outputs": [
    {
     "name": "stdout",
     "output_type": "stream",
     "text": [
      "Student's grade: A\n"
     ]
    }
   ],
   "source": [
    "def assign_grade(score):\n",
    "    if score >= 90:\n",
    "        return \"A\"\n",
    "    elif score >= 80:\n",
    "        return \"B\"\n",
    "    elif score >= 70:\n",
    "        return \"C\"\n",
    "    elif score >= 60:\n",
    "        return \"D\"\n",
    "    else:\n",
    "        return \"F\"\n",
    "\n",
    "try:\n",
    "    student_score = float(input(\"Enter the student's score: \"))\n",
    "    if 0 <= student_score <= 100:\n",
    "        student_grade = assign_grade(student_score)\n",
    "        print(f\"Student's grade: {student_grade}\")\n",
    "    else:\n",
    "        print(\"Invalid score. Please enter a value between 0 and 100.\")\n",
    "except ValueError:\n",
    "    print(\"Invalid input. Please enter a numeric score.\")"
   ]
  },
  {
   "cell_type": "markdown",
   "metadata": {},
   "source": [
    "11. Write a Python program to check if a string is empty or not using if-else.\n"
   ]
  },
  {
   "cell_type": "code",
   "execution_count": 52,
   "metadata": {},
   "outputs": [
    {
     "name": "stdout",
     "output_type": "stream",
     "text": [
      "The string is not empty.\n"
     ]
    }
   ],
   "source": [
    "def is_string_empty(s):\n",
    "    if not s:\n",
    "        return True\n",
    "    else:\n",
    "        return False\n",
    "\n",
    "user_input = input(\"Enter a string: \")\n",
    "if is_string_empty(user_input):\n",
    "    print(\"The string is empty.\")\n",
    "else:\n",
    "    print(\"The string is not empty.\")"
   ]
  },
  {
   "cell_type": "markdown",
   "metadata": {},
   "source": [
    "12. Create a Python program that identifies the type of a triangle (e.g., equilateral, isosceles, or scalene) based on input values using if-else.\n"
   ]
  },
  {
   "cell_type": "code",
   "execution_count": 53,
   "metadata": {},
   "outputs": [
    {
     "name": "stdout",
     "output_type": "stream",
     "text": [
      "The triangle is Equilateral.\n"
     ]
    }
   ],
   "source": [
    "def classify_triangle(a, b, c):\n",
    "    if a == b == c:\n",
    "        return \"Equilateral\"\n",
    "    elif a == b or b == c or a == c:\n",
    "        return \"Isosceles\"\n",
    "    else:\n",
    "        return \"Scalene\"\n",
    "\n",
    "side1, side2, side3 = map(float, input(\"Enter three side lengths (separated by spaces): \").split())\n",
    "print(f\"The triangle is {classify_triangle(side1, side2, side3)}.\")"
   ]
  },
  {
   "cell_type": "markdown",
   "metadata": {},
   "source": [
    "13. Write a Python program to determine the day of the week based on a user-provided number\n",
    "using if-else.\n"
   ]
  },
  {
   "cell_type": "code",
   "execution_count": 54,
   "metadata": {},
   "outputs": [
    {
     "name": "stdout",
     "output_type": "stream",
     "text": [
      "Day of the week: Friday\n"
     ]
    }
   ],
   "source": [
    "def get_day_of_week(day_number):\n",
    "    days = [\"Monday\", \"Tuesday\", \"Wednesday\", \"Thursday\", \"Friday\", \"Saturday\", \"Sunday\"]\n",
    "    if 1 <= day_number <= 7:\n",
    "        return days[day_number - 1]\n",
    "    else:\n",
    "        return \"Invalid day number\"\n",
    "\n",
    "user_day = int(input(\"Enter a day number (1-7): \"))\n",
    "print(f\"Day of the week: {get_day_of_week(user_day)}\")"
   ]
  },
  {
   "cell_type": "markdown",
   "metadata": {},
   "source": [
    "14. Create a Python program that checks if a given year is a leap year using both if-else and a\n",
    "function.\n"
   ]
  },
  {
   "cell_type": "code",
   "execution_count": 55,
   "metadata": {},
   "outputs": [
    {
     "name": "stdout",
     "output_type": "stream",
     "text": [
      "2024 is a leap year!\n"
     ]
    }
   ],
   "source": [
    "def is_leap_year(year):\n",
    "    if (year % 4 == 0 and year % 100 != 0) or (year % 400 == 0):\n",
    "        return True\n",
    "    else:\n",
    "        return False\n",
    "\n",
    "user_year = int(input(\"Enter a year: \"))\n",
    "if is_leap_year(user_year):\n",
    "    print(f\"{user_year} is a leap year!\")\n",
    "else:\n",
    "    print(f\"{user_year} is not a leap year.\")"
   ]
  },
  {
   "cell_type": "markdown",
   "metadata": {},
   "source": [
    "15. How do you use the \"assert\" statement in Python to add debugging checks within if-else blocks?\n"
   ]
  },
  {
   "cell_type": "code",
   "execution_count": 56,
   "metadata": {},
   "outputs": [
    {
     "name": "stdout",
     "output_type": "stream",
     "text": [
      "Result: 1.67\n"
     ]
    }
   ],
   "source": [
    "def divide(a, b):\n",
    "    assert b != 0, \"Cannot divide by zero\"\n",
    "    return a / b\n",
    "\n",
    "num1, num2 = map(float, input(\"Enter two numbers (separated by spaces): \").split())\n",
    "result = divide(num1, num2)\n",
    "print(f\"Result: {result:.2f}\")"
   ]
  },
  {
   "cell_type": "markdown",
   "metadata": {},
   "source": [
    "16. Create a Python program that determines the eligibility of a person for a senior citizen discount based on age using if-else.\n"
   ]
  },
  {
   "cell_type": "code",
   "execution_count": 57,
   "metadata": {},
   "outputs": [
    {
     "name": "stdout",
     "output_type": "stream",
     "text": [
      "Eligible for senior citizen discount\n"
     ]
    }
   ],
   "source": [
    "def check_senior_citizen(age):\n",
    "    if age >= 60:\n",
    "        return \"Eligible for senior citizen discount\"\n",
    "    else:\n",
    "        return \"Not eligible for senior citizen discount\"\n",
    "\n",
    "user_age = int(input(\"Enter your age: \"))\n",
    "print(check_senior_citizen(user_age))"
   ]
  },
  {
   "cell_type": "markdown",
   "metadata": {},
   "source": [
    "17. Write a Python program to categorize a given character as uppercase, lowercase, or neither\n",
    "using if-else.\n"
   ]
  },
  {
   "cell_type": "code",
   "execution_count": 58,
   "metadata": {},
   "outputs": [
    {
     "name": "stdout",
     "output_type": "stream",
     "text": [
      "The character is Lowercase.\n"
     ]
    }
   ],
   "source": [
    "def categorize_character(char):\n",
    "    if char.isalpha():\n",
    "        if char.isupper():\n",
    "            return \"Uppercase\"\n",
    "        else:\n",
    "            return \"Lowercase\"\n",
    "    else:\n",
    "        return \"Neither uppercase nor lowercase\"\n",
    "\n",
    "user_char = input(\"Enter a character: \")\n",
    "print(f\"The character is {categorize_character(user_char)}.\")"
   ]
  },
  {
   "cell_type": "markdown",
   "metadata": {},
   "source": [
    "18. Write a Python program to determine the roots of a quadratic equation using if-else.\n"
   ]
  },
  {
   "cell_type": "code",
   "execution_count": 60,
   "metadata": {},
   "outputs": [
    {
     "data": {
      "text/plain": [
       "(-0.3819660112501051, -2.618033988749895)"
      ]
     },
     "execution_count": 60,
     "metadata": {},
     "output_type": "execute_result"
    }
   ],
   "source": [
    "def quadratic_roots(a, b, c):\n",
    "    discriminant = b**2 - 4*a*c\n",
    "    if discriminant > 0:\n",
    "        root1 = (-b + discriminant**0.5) / (2*a)\n",
    "        root2 = (-b - discriminant**0.5) / (2*a)\n",
    "        return root1, root2\n",
    "    elif discriminant == 0:\n",
    "        root = -b / (2*a)\n",
    "        return root, root\n",
    "    else:\n",
    "        return \"Complex roots\"\n",
    "    \n",
    "quadratic_roots(3,9,3)"
   ]
  },
  {
   "cell_type": "markdown",
   "metadata": {},
   "source": [
    "19. Create a Python program that checks if a given year is a century year or not using if-else.\n"
   ]
  },
  {
   "cell_type": "code",
   "execution_count": 62,
   "metadata": {},
   "outputs": [
    {
     "name": "stdout",
     "output_type": "stream",
     "text": [
      "2000 is a century year.\n"
     ]
    }
   ],
   "source": [
    "def is_century_year(year):\n",
    "    if year % 100 == 0:\n",
    "        if year % 400 == 0:\n",
    "            return True\n",
    "        else:\n",
    "            return False\n",
    "    return False\n",
    "\n",
    "user_year = int(input(\"Enter a year: \"))\n",
    "if is_century_year(user_year):\n",
    "    print(f\"{user_year} is a century year.\")\n",
    "else:\n",
    "    print(f\"{user_year} is not a century year.\")"
   ]
  },
  {
   "cell_type": "markdown",
   "metadata": {},
   "source": [
    "20. Write a Python program to determine if a given number is a perfect square using if-else.\n"
   ]
  },
  {
   "cell_type": "code",
   "execution_count": 63,
   "metadata": {},
   "outputs": [
    {
     "name": "stdout",
     "output_type": "stream",
     "text": [
      "9 is a perfect square.\n"
     ]
    }
   ],
   "source": [
    "def is_perfect_square(num):\n",
    "    root = int(num**0.5)\n",
    "    return root**2 == num\n",
    "\n",
    "user_number = int(input(\"Enter a number: \"))\n",
    "if is_perfect_square(user_number):\n",
    "    print(f\"{user_number} is a perfect square.\")\n",
    "else:\n",
    "    print(f\"{user_number} is not a perfect square.\")"
   ]
  },
  {
   "cell_type": "markdown",
   "metadata": {},
   "source": [
    "21. Explain the purpose of the \"continue\" and \"break\" statements within if-else loops.\n"
   ]
  },
  {
   "cell_type": "markdown",
   "metadata": {},
   "source": [
    "- The continue statement is used within loops (including if-else blocks) to skip the current iteration and move to the next one. It allows you to bypass the remaining code in the loop for the current iteration.\n",
    "- The break statement is used to exit a loop prematurely. When encountered, it immediately terminates the loop, regardless of whether the loop condition is still satisfied."
   ]
  },
  {
   "cell_type": "markdown",
   "metadata": {},
   "source": [
    "22. Create a Python program that calculates the BMI (Body Mass Index) of a person based on their\n",
    "weight and height using if-else.\n"
   ]
  },
  {
   "cell_type": "code",
   "execution_count": 66,
   "metadata": {},
   "outputs": [
    {
     "name": "stdout",
     "output_type": "stream",
     "text": [
      "Your BMI is 24.77\n"
     ]
    }
   ],
   "source": [
    "def calculate_bmi(weight_kg, height_m):\n",
    "    bmi = weight_kg / (height_m**2)\n",
    "    return bmi\n",
    "\n",
    "weight = float(input(\"Enter weight in kilograms: \"))\n",
    "height = float(input(\"Enter height in meters: \"))\n",
    "\n",
    "if weight > 0 and height > 0:\n",
    "    bmi_result = calculate_bmi(weight, height)\n",
    "    print(f\"Your BMI is {bmi_result:.2f}\")\n",
    "else:\n",
    "    print(\"Invalid input. Weight and height must be positive.\")"
   ]
  },
  {
   "cell_type": "markdown",
   "metadata": {},
   "source": [
    "23. How can you use the \"filter()\" function with if-else statements to filter elements from a list?\n"
   ]
  },
  {
   "cell_type": "code",
   "execution_count": 67,
   "metadata": {},
   "outputs": [
    {
     "name": "stdout",
     "output_type": "stream",
     "text": [
      "Filtered positive numbers: [1, 3, 5]\n"
     ]
    }
   ],
   "source": [
    "def is_positive(num):\n",
    "    return num > 0\n",
    "\n",
    "numbers = [1, -2, 3, -4, 5]\n",
    "filtered_numbers = list(filter(is_positive, numbers))\n",
    "print(f\"Filtered positive numbers: {filtered_numbers}\")"
   ]
  },
  {
   "cell_type": "markdown",
   "metadata": {},
   "source": [
    "24. Write a Python program to determine if a given number is prime or not using if-else"
   ]
  },
  {
   "cell_type": "code",
   "execution_count": 68,
   "metadata": {},
   "outputs": [
    {
     "name": "stdout",
     "output_type": "stream",
     "text": [
      "6 is not a prime number.\n"
     ]
    }
   ],
   "source": [
    "def is_prime(number):\n",
    "    if number <= 1:\n",
    "        return False\n",
    "    for i in range(2, int(number**0.5) + 1):\n",
    "        if number % i == 0:\n",
    "            return False\n",
    "    return True\n",
    "\n",
    "user_number = int(input(\"Enter a number: \"))\n",
    "if is_prime(user_number):\n",
    "    print(f\"{user_number} is a prime number.\")\n",
    "else:\n",
    "    print(f\"{user_number} is not a prime number.\")"
   ]
  },
  {
   "cell_type": "markdown",
   "metadata": {},
   "source": [
    "### Map"
   ]
  },
  {
   "cell_type": "markdown",
   "metadata": {},
   "source": [
    "1. Explain the purpose of the `map()` function in Python and provide an example of how it can be\n",
    "used to apply a function to each element of an iterable.\n"
   ]
  },
  {
   "cell_type": "markdown",
   "metadata": {},
   "source": [
    " The map() function is used to apply a given function to each element of an iterable (such as a list, tuple, or string) and returns an iterator with the transformed values. It’s a powerful tool for transforming data without using explicit loops. Example:"
   ]
  },
  {
   "cell_type": "code",
   "execution_count": 69,
   "metadata": {},
   "outputs": [
    {
     "name": "stdout",
     "output_type": "stream",
     "text": [
      "[1, 4, 9, 16, 25]\n"
     ]
    }
   ],
   "source": [
    "def square(x):\n",
    "    return x ** 2\n",
    "\n",
    "numbers = [1, 2, 3, 4, 5]\n",
    "squared_numbers = map(square, numbers)\n",
    "print(list(squared_numbers)) "
   ]
  },
  {
   "cell_type": "markdown",
   "metadata": {},
   "source": [
    "2. Write a Python program that uses the `map()` function to square each element of a list of\n",
    "numbers.\n"
   ]
  },
  {
   "cell_type": "code",
   "execution_count": 70,
   "metadata": {},
   "outputs": [
    {
     "name": "stdout",
     "output_type": "stream",
     "text": [
      "[1, 4, 9, 16, 25]\n"
     ]
    }
   ],
   "source": [
    "def square(x):\n",
    "    return x ** 2\n",
    "\n",
    "numbers = [1, 2, 3, 4, 5]\n",
    "squared_numbers = list(map(square, numbers))\n",
    "print(squared_numbers)  "
   ]
  },
  {
   "cell_type": "markdown",
   "metadata": {},
   "source": [
    "3. How does the `map()` function differ from a list comprehension in Python, and when would you\n",
    "choose one over the other?\n"
   ]
  },
  {
   "cell_type": "markdown",
   "metadata": {},
   "source": [
    "* map() applies a function to each element of an iterable and returns an iterator. It’s useful when you want to transform all elements uniformly.\n",
    "* List comprehensions create a new list by applying an expression to each element of an iterable. They are more concise and often easier to read.\n",
    "* Choose map() when you need to apply a custom function or when you’re working with other iterables (not just lists). Use list comprehensions when the transformation is simple and can be expressed directly."
   ]
  },
  {
   "cell_type": "markdown",
   "metadata": {},
   "source": [
    "4. Create a Python program that uses the `map()` function to convert a list of names to uppercase.\n"
   ]
  },
  {
   "cell_type": "code",
   "execution_count": 71,
   "metadata": {},
   "outputs": [
    {
     "name": "stdout",
     "output_type": "stream",
     "text": [
      "['ALICE', 'BOB', 'CHARLIE']\n"
     ]
    }
   ],
   "source": [
    "names = [\"Alice\", \"Bob\", \"Charlie\"]\n",
    "upper_names = list(map(str.upper, names))\n",
    "print(upper_names)  "
   ]
  },
  {
   "cell_type": "markdown",
   "metadata": {},
   "source": [
    "5. Write a Python program that uses the `map()` function to calculate the length of each word in a\n",
    "list of strings.\n"
   ]
  },
  {
   "cell_type": "code",
   "execution_count": 72,
   "metadata": {},
   "outputs": [
    {
     "name": "stdout",
     "output_type": "stream",
     "text": [
      "[13, 17, 20]\n"
     ]
    }
   ],
   "source": [
    "def word_length(word):\n",
    "    return len(word)\n",
    "\n",
    "sentences = [\"Hello, world!\", \"Python is awesome\", \"Map function example\"]\n",
    "word_lengths = list(map(word_length, sentences))\n",
    "print(word_lengths) "
   ]
  },
  {
   "cell_type": "markdown",
   "metadata": {},
   "source": [
    "6. How can you use the `map()` function to apply a custom function to elements of multiple lists\n",
    "simultaneously in Python?\n"
   ]
  },
  {
   "cell_type": "code",
   "execution_count": 73,
   "metadata": {},
   "outputs": [
    {
     "name": "stdout",
     "output_type": "stream",
     "text": [
      "[11, 22, 33]\n"
     ]
    }
   ],
   "source": [
    "def custom_function(a, b):\n",
    "    return a + b  \n",
    "\n",
    "list1 = [1, 2, 3]\n",
    "list2 = [10, 20, 30]\n",
    "result = list(map(custom_function, list1, list2))\n",
    "print(result) "
   ]
  },
  {
   "cell_type": "markdown",
   "metadata": {},
   "source": [
    "7. Create a Python program that uses `map()` to convert a list of temperatures from Celsius to\n",
    "Fahrenheit.\n"
   ]
  },
  {
   "cell_type": "code",
   "execution_count": 74,
   "metadata": {},
   "outputs": [
    {
     "name": "stdout",
     "output_type": "stream",
     "text": [
      "[77.0, 86.0, 59.0]\n"
     ]
    }
   ],
   "source": [
    "def celsius_to_fahrenheit(celsius):\n",
    "    return (celsius * 9/5) + 32\n",
    "\n",
    "celsius_temperatures = [25, 30, 15]\n",
    "fahrenheit_temperatures = list(map(celsius_to_fahrenheit, celsius_temperatures))\n",
    "print(fahrenheit_temperatures)  "
   ]
  },
  {
   "cell_type": "markdown",
   "metadata": {},
   "source": [
    "8. Write a Python program that uses the `map()` function to round each element of a list of\n",
    "floating-point numbers to the nearest integer.\n"
   ]
  },
  {
   "cell_type": "code",
   "execution_count": 75,
   "metadata": {},
   "outputs": [
    {
     "name": "stdout",
     "output_type": "stream",
     "text": [
      "[3, 3, 2]\n"
     ]
    }
   ],
   "source": [
    "def round_to_nearest_integer(num):\n",
    "    return round(num)\n",
    "\n",
    "float_numbers = [3.14, 2.718, 1.618]\n",
    "rounded_integers = list(map(round_to_nearest_integer, float_numbers))\n",
    "print(rounded_integers)  "
   ]
  },
  {
   "cell_type": "markdown",
   "metadata": {},
   "source": [
    "### Reduce"
   ]
  },
  {
   "cell_type": "markdown",
   "metadata": {},
   "source": [
    "1. What is the `reduce()` function in Python, and what module should you import to use it? Provide\n",
    "an example of its basic usage.\n"
   ]
  },
  {
   "cell_type": "markdown",
   "metadata": {},
   "source": [
    "* The reduce() function is part of the functools module in Python.\n",
    "* It’s used to apply a binary function (a function that takes two arguments) cumulatively to the items of an iterable (e.g., a list, tuple, or string).\n",
    "* The result of each application becomes one of the arguments for the next application.\n",
    "* The final result is a single value."
   ]
  },
  {
   "cell_type": "markdown",
   "metadata": {},
   "source": [
    "2. Write a Python program that uses the `reduce()` function to find the product of all elements in a\n",
    "list.\n"
   ]
  },
  {
   "cell_type": "code",
   "execution_count": 76,
   "metadata": {},
   "outputs": [
    {
     "name": "stdout",
     "output_type": "stream",
     "text": [
      "Product of list elements: 120\n"
     ]
    }
   ],
   "source": [
    "from functools import reduce\n",
    "\n",
    "def multiply(a, b):\n",
    "    return a * b\n",
    "\n",
    "numbers = [2, 3, 4, 5]\n",
    "product = reduce(multiply, numbers)\n",
    "print(f\"Product of list elements: {product}\")"
   ]
  },
  {
   "cell_type": "markdown",
   "metadata": {},
   "source": [
    "3. Create a Python program that uses `reduce()` to find the maximum element in a list of numbers.\n"
   ]
  },
  {
   "cell_type": "code",
   "execution_count": 77,
   "metadata": {},
   "outputs": [
    {
     "name": "stdout",
     "output_type": "stream",
     "text": [
      "Maximum element: 42\n"
     ]
    }
   ],
   "source": [
    "from functools import reduce\n",
    "\n",
    "def find_maximum(a, b):\n",
    "    return max(a, b)\n",
    "\n",
    "numbers = [10, 25, 8, 42, 15]\n",
    "max_element = reduce(find_maximum, numbers)\n",
    "print(f\"Maximum element: {max_element}\")"
   ]
  },
  {
   "cell_type": "markdown",
   "metadata": {},
   "source": [
    "4. How can you use the `reduce()` function to concatenate a list of strings into a single string?\n"
   ]
  },
  {
   "cell_type": "code",
   "execution_count": 78,
   "metadata": {},
   "outputs": [
    {
     "name": "stdout",
     "output_type": "stream",
     "text": [
      "Concatenated string: Helloworldfromreduce()\n"
     ]
    }
   ],
   "source": [
    "from functools import reduce\n",
    "\n",
    "def concatenate_strings(a, b):\n",
    "    return a + b\n",
    "\n",
    "words = [\"Hello\", \"world\", \"from\", \"reduce()\"]\n",
    "concatenated_string = reduce(concatenate_strings, words)\n",
    "print(f\"Concatenated string: {concatenated_string}\")"
   ]
  },
  {
   "cell_type": "markdown",
   "metadata": {},
   "source": [
    "5. Write a Python program that calculates the factorial of a number using the `reduce()` function.\n"
   ]
  },
  {
   "cell_type": "code",
   "execution_count": 79,
   "metadata": {},
   "outputs": [
    {
     "name": "stdout",
     "output_type": "stream",
     "text": [
      "Factorial of 5: 120\n"
     ]
    }
   ],
   "source": [
    "from functools import reduce\n",
    "\n",
    "def factorial(acc, num):\n",
    "    return acc * num\n",
    "\n",
    "n = 5\n",
    "factorial_result = reduce(factorial, range(1, n + 1))\n",
    "print(f\"Factorial of {n}: {factorial_result}\")"
   ]
  },
  {
   "cell_type": "markdown",
   "metadata": {},
   "source": [
    "6. Create a Python program that uses `reduce()` to find the GCD (Greatest Common Divisor) of a list\n",
    "of numbers.\n"
   ]
  },
  {
   "cell_type": "code",
   "execution_count": 80,
   "metadata": {},
   "outputs": [
    {
     "name": "stdout",
     "output_type": "stream",
     "text": [
      "GCD of list elements: 12\n"
     ]
    }
   ],
   "source": [
    "from functools import reduce\n",
    "import math\n",
    "\n",
    "def gcd(a, b):\n",
    "    return math.gcd(a, b)\n",
    "\n",
    "numbers = [24, 36, 48, 60]\n",
    "gcd_result = reduce(gcd, numbers)\n",
    "print(f\"GCD of list elements: {gcd_result}\")"
   ]
  },
  {
   "cell_type": "markdown",
   "metadata": {},
   "source": [
    "7. Write a Python program that uses the `reduce()` function to find the sum of the digits of a given\n",
    "number.\n"
   ]
  },
  {
   "cell_type": "code",
   "execution_count": 83,
   "metadata": {},
   "outputs": [
    {
     "name": "stdout",
     "output_type": "stream",
     "text": [
      "Sum of digits: 17\n"
     ]
    }
   ],
   "source": [
    "from functools import reduce\n",
    "\n",
    "def sum_of_digits(acc, digit):\n",
    "    return acc + int(digit)\n",
    "\n",
    "user_number = input(\"Enter a number: \")\n",
    "digit_sum = reduce(sum_of_digits, user_number, 0)\n",
    "print(f\"Sum of digits: {digit_sum}\")"
   ]
  },
  {
   "cell_type": "markdown",
   "metadata": {},
   "source": [
    "### Filter"
   ]
  },
  {
   "cell_type": "markdown",
   "metadata": {},
   "source": [
    "1. Explain the purpose of the `filter()` function in Python and provide an example of how it can be\n",
    "used to filter elements from an iterable.\n"
   ]
  },
  {
   "cell_type": "markdown",
   "metadata": {},
   "source": [
    "* The filter() function is used to filter elements from an iterable (such as a list, tuple, or string) based on a given condition.\n",
    "* It returns an iterator containing only the elements that satisfy the specified condition.\n",
    "* The condition is defined by a function that returns either True or False."
   ]
  },
  {
   "cell_type": "markdown",
   "metadata": {},
   "source": [
    "2. Write a Python program that uses the `filter()` function to select even numbers from a list of\n",
    "integers.\n"
   ]
  },
  {
   "cell_type": "code",
   "execution_count": 84,
   "metadata": {},
   "outputs": [
    {
     "name": "stdout",
     "output_type": "stream",
     "text": [
      "[2, 4, 6, 8]\n"
     ]
    }
   ],
   "source": [
    "def is_even(num):\n",
    "    return num % 2 == 0\n",
    "\n",
    "numbers = [1, 2, 3, 4, 5, 6, 7, 8]\n",
    "even_numbers = list(filter(is_even, numbers))\n",
    "print(even_numbers)  "
   ]
  },
  {
   "cell_type": "markdown",
   "metadata": {},
   "source": [
    "3. Create a Python program that uses the `filter()` function to select names that start with a specific\n",
    "letter from a list of strings.\n"
   ]
  },
  {
   "cell_type": "code",
   "execution_count": 85,
   "metadata": {},
   "outputs": [
    {
     "name": "stdout",
     "output_type": "stream",
     "text": [
      "['Alice', 'Anna', 'Alex']\n"
     ]
    }
   ],
   "source": [
    "def starts_with_a(name):\n",
    "    return name.startswith(\"A\")\n",
    "\n",
    "names = [\"Alice\", \"Bob\", \"Anna\", \"Alex\", \"Charlie\"]\n",
    "filtered_names = list(filter(starts_with_a, names))\n",
    "print(filtered_names)  "
   ]
  },
  {
   "cell_type": "markdown",
   "metadata": {},
   "source": [
    "4. Write a Python program that uses the `filter()` function to select prime numbers from a list of\n",
    "integers.\n"
   ]
  },
  {
   "cell_type": "code",
   "execution_count": 86,
   "metadata": {},
   "outputs": [
    {
     "name": "stdout",
     "output_type": "stream",
     "text": [
      "[7, 17, 29, 31]\n"
     ]
    }
   ],
   "source": [
    "def is_prime(num):\n",
    "    if num <= 1:\n",
    "        return False\n",
    "    for i in range(2, int(num**0.5) + 1):\n",
    "        if num % i == 0:\n",
    "            return False\n",
    "    return True\n",
    "\n",
    "numbers = [7, 12, 17, 22, 29, 31]\n",
    "prime_numbers = list(filter(is_prime, numbers))\n",
    "print(prime_numbers)  "
   ]
  },
  {
   "cell_type": "markdown",
   "metadata": {},
   "source": [
    "5. How can you use the `filter()` function to remove None values from a list in Python?\n"
   ]
  },
  {
   "cell_type": "code",
   "execution_count": 87,
   "metadata": {},
   "outputs": [
    {
     "name": "stdout",
     "output_type": "stream",
     "text": [
      "[10, 25, 42]\n"
     ]
    }
   ],
   "source": [
    "values = [10, None, 25, None, 42, None]\n",
    "non_none_values = list(filter(lambda x: x is not None, values))\n",
    "print(non_none_values)  "
   ]
  },
  {
   "cell_type": "markdown",
   "metadata": {},
   "source": [
    "6. Create a Python program that uses `filter()` to select words longer than a certain length from a\n",
    "list of strings.\n"
   ]
  },
  {
   "cell_type": "code",
   "execution_count": 88,
   "metadata": {},
   "outputs": [
    {
     "name": "stdout",
     "output_type": "stream",
     "text": [
      "['banana', 'cherry']\n"
     ]
    }
   ],
   "source": [
    "def longer_than_length(word, length):\n",
    "    return len(word) > length\n",
    "\n",
    "words = [\"apple\", \"banana\", \"cherry\", \"grape\", \"kiwi\"]\n",
    "filtered_words = list(filter(lambda w: longer_than_length(w, 5), words))\n",
    "print(filtered_words)  "
   ]
  },
  {
   "cell_type": "markdown",
   "metadata": {},
   "source": [
    "7. Write a Python program that uses the `filter()` function to select elements greater than a\n",
    "specified threshold from a list of values.\n"
   ]
  },
  {
   "cell_type": "code",
   "execution_count": 89,
   "metadata": {},
   "outputs": [
    {
     "name": "stdout",
     "output_type": "stream",
     "text": [
      "[25, 30, 22]\n"
     ]
    }
   ],
   "source": [
    "def greater_than_threshold(value, threshold):\n",
    "    return value > threshold\n",
    "\n",
    "values = [15, 25, 10, 30, 18, 22]\n",
    "filtered_values = list(filter(lambda v: greater_than_threshold(v, 20), values))\n",
    "print(filtered_values) "
   ]
  },
  {
   "cell_type": "markdown",
   "metadata": {},
   "source": [
    "### Recursion"
   ]
  },
  {
   "cell_type": "markdown",
   "metadata": {},
   "source": [
    "1. Explain the concept of recursion in Python. How does it differ from iteration?\n"
   ]
  },
  {
   "cell_type": "markdown",
   "metadata": {},
   "source": [
    "Recursion:\n",
    "* Recursion is a programming technique where a function calls itself directly or indirectly.\n",
    "* It involves breaking down a problem into smaller, similar subproblems.\n",
    "* Each recursive call works on a smaller portion of the problem until a base case is reached.\n",
    "* Recursion often leads to elegant and concise code.\n",
    "* Examples: factorial calculation, Fibonacci sequence, tree traversal.\n",
    "\n",
    "Iteration:\n",
    "* Iteration involves using loops (such as for or while) to repeatedly execute a block of code.\n",
    "* It relies on maintaining state (e.g., loop variables) and controlling the flow explicitly.\n",
    "* Iteration is more memory-efficient than recursion in most cases.\n",
    " Examples: for loops, while loops."
   ]
  },
  {
   "cell_type": "markdown",
   "metadata": {},
   "source": [
    "2. Write a Python program to calculate the factorial of a number using recursion.\n"
   ]
  },
  {
   "cell_type": "code",
   "execution_count": 90,
   "metadata": {},
   "outputs": [
    {
     "name": "stdout",
     "output_type": "stream",
     "text": [
      "Factorial of 5: 120\n"
     ]
    }
   ],
   "source": [
    "def factorial(n):\n",
    "    if n == 0:\n",
    "        return 1\n",
    "    else:\n",
    "        return n * factorial(n - 1)\n",
    "\n",
    "user_input = int(input(\"Enter a non-negative integer: \"))\n",
    "print(f\"Factorial of {user_input}: {factorial(user_input)}\")"
   ]
  },
  {
   "cell_type": "markdown",
   "metadata": {},
   "source": [
    "3. Create a recursive Python function to find the nth Fibonacci number.\n"
   ]
  },
  {
   "cell_type": "code",
   "execution_count": 91,
   "metadata": {},
   "outputs": [
    {
     "name": "stdout",
     "output_type": "stream",
     "text": [
      "Sum of list elements: 15\n"
     ]
    }
   ],
   "source": [
    "def sum_list_recursive(lst):\n",
    "    if not lst:\n",
    "        return 0\n",
    "    else:\n",
    "        return lst[0] + sum_list_recursive(lst[1:])\n",
    "\n",
    "numbers = [1, 2, 3, 4, 5]\n",
    "print(f\"Sum of list elements: {sum_list_recursive(numbers)}\")"
   ]
  },
  {
   "cell_type": "markdown",
   "metadata": {},
   "source": [
    "4. Write a recursive Python function to calculate the sum of all elements in a list.\n"
   ]
  },
  {
   "cell_type": "code",
   "execution_count": 92,
   "metadata": {},
   "outputs": [
    {
     "name": "stdout",
     "output_type": "stream",
     "text": [
      "Sum of list elements: 15\n"
     ]
    }
   ],
   "source": [
    "def sum_list_recursive(lst):\n",
    "    if not lst:\n",
    "        return 0\n",
    "    else:\n",
    "        return lst[0] + sum_list_recursive(lst[1:])\n",
    "\n",
    "numbers = [1, 2, 3, 4, 5]\n",
    "print(f\"Sum of list elements: {sum_list_recursive(numbers)}\")"
   ]
  },
  {
   "cell_type": "markdown",
   "metadata": {},
   "source": [
    "5. How can you prevent a recursive function from running indefinitely, causing a stack overflow\n",
    "error?\n"
   ]
  },
  {
   "cell_type": "markdown",
   "metadata": {},
   "source": [
    "* Always define a base case that terminates the recursion (e.g., if n == 0: in the factorial example).\n",
    "* Ensure that recursive calls move toward the base case (e.g., decrementing n in the factorial example).\n",
    "* Debug using print statements or limit recursion depth (e.g., using sys.setrecursionlimit())."
   ]
  },
  {
   "cell_type": "markdown",
   "metadata": {},
   "source": [
    "6. Create a recursive Python function to find the greatest common divisor (GCD) of two numbers\n",
    "using the Euclidean algorithm.\n"
   ]
  },
  {
   "cell_type": "code",
   "execution_count": 93,
   "metadata": {},
   "outputs": [
    {
     "name": "stdout",
     "output_type": "stream",
     "text": [
      "GCD of 5 and 6: 1\n"
     ]
    }
   ],
   "source": [
    "def gcd(a, b):\n",
    "    if b == 0:\n",
    "        return a\n",
    "    else:\n",
    "        return gcd(b, a % b)\n",
    "\n",
    "num1, num2 = map(int, input(\"Enter two positive integers (separated by spaces): \").split())\n",
    "print(f\"GCD of {num1} and {num2}: {gcd(num1, num2)}\")"
   ]
  },
  {
   "cell_type": "markdown",
   "metadata": {},
   "source": [
    "7. Write a recursive Python function to reverse a string.\n"
   ]
  },
  {
   "cell_type": "code",
   "execution_count": 95,
   "metadata": {},
   "outputs": [
    {
     "name": "stdout",
     "output_type": "stream",
     "text": [
      "Reversed string: olleH\n"
     ]
    }
   ],
   "source": [
    "def reverse_string(s):\n",
    "    if not s:\n",
    "        return \"\"\n",
    "    else:\n",
    "        return s[-1] + reverse_string(s[:-1])\n",
    "\n",
    "user_string = input(\"Enter a string: \")\n",
    "print(f\"Reversed string: {reverse_string(user_string)}\")"
   ]
  },
  {
   "cell_type": "markdown",
   "metadata": {},
   "source": [
    "8. Create a recursive Python function to calculate the power of a number (x^n).\n"
   ]
  },
  {
   "cell_type": "code",
   "execution_count": 96,
   "metadata": {},
   "outputs": [
    {
     "name": "stdout",
     "output_type": "stream",
     "text": [
      "9.0^2 = 81.0\n"
     ]
    }
   ],
   "source": [
    "def power(x, n):\n",
    "    if n == 0:\n",
    "        return 1\n",
    "    else:\n",
    "        return x * power(x, n - 1)\n",
    "\n",
    "base = float(input(\"Enter the base (x): \"))\n",
    "exponent = int(input(\"Enter the exponent (n): \"))\n",
    "print(f\"{base}^{exponent} = {power(base, exponent)}\")"
   ]
  },
  {
   "cell_type": "markdown",
   "metadata": {},
   "source": [
    "9. Write a recursive Python function to find all permutations of a given string.\n"
   ]
  },
  {
   "cell_type": "code",
   "execution_count": 97,
   "metadata": {},
   "outputs": [
    {
     "name": "stdout",
     "output_type": "stream",
     "text": [
      "All permutations: ['Hello', 'Helol', 'Hello', 'Helol', 'Heoll', 'Heoll', 'Hlelo', 'Hleol', 'Hlleo', 'Hlloe', 'Hloel', 'Hlole', 'Hlelo', 'Hleol', 'Hlleo', 'Hlloe', 'Hloel', 'Hlole', 'Hoell', 'Hoell', 'Holel', 'Holle', 'Holel', 'Holle', 'eHllo', 'eHlol', 'eHllo', 'eHlol', 'eHoll', 'eHoll', 'elHlo', 'elHol', 'ellHo', 'elloH', 'eloHl', 'elolH', 'elHlo', 'elHol', 'ellHo', 'elloH', 'eloHl', 'elolH', 'eoHll', 'eoHll', 'eolHl', 'eollH', 'eolHl', 'eollH', 'lHelo', 'lHeol', 'lHleo', 'lHloe', 'lHoel', 'lHole', 'leHlo', 'leHol', 'lelHo', 'leloH', 'leoHl', 'leolH', 'llHeo', 'llHoe', 'lleHo', 'lleoH', 'lloHe', 'lloeH', 'loHel', 'loHle', 'loeHl', 'loelH', 'lolHe', 'loleH', 'lHelo', 'lHeol', 'lHleo', 'lHloe', 'lHoel', 'lHole', 'leHlo', 'leHol', 'lelHo', 'leloH', 'leoHl', 'leolH', 'llHeo', 'llHoe', 'lleHo', 'lleoH', 'lloHe', 'lloeH', 'loHel', 'loHle', 'loeHl', 'loelH', 'lolHe', 'loleH', 'oHell', 'oHell', 'oHlel', 'oHlle', 'oHlel', 'oHlle', 'oeHll', 'oeHll', 'oelHl', 'oellH', 'oelHl', 'oellH', 'olHel', 'olHle', 'oleHl', 'olelH', 'ollHe', 'olleH', 'olHel', 'olHle', 'oleHl', 'olelH', 'ollHe', 'olleH']\n"
     ]
    }
   ],
   "source": [
    "def permutations(s):\n",
    "    if len(s) == 1:\n",
    "        return [s]\n",
    "    else:\n",
    "        perms = []\n",
    "        for i, char in enumerate(s):\n",
    "            rest = s[:i] + s[i + 1:]\n",
    "            for perm in permutations(rest):\n",
    "                perms.append(char + perm)\n",
    "        return perms\n",
    "\n",
    "user_input = input(\"Enter a string: \")\n",
    "all_perms = permutations(user_input)\n",
    "print(f\"All permutations: {all_perms}\")"
   ]
  },
  {
   "cell_type": "markdown",
   "metadata": {},
   "source": [
    "10. Write a recursive Python function to check if a string is a palindrome.\n"
   ]
  },
  {
   "cell_type": "code",
   "execution_count": 100,
   "metadata": {},
   "outputs": [
    {
     "name": "stdout",
     "output_type": "stream",
     "text": [
      "It's a palindrome!\n"
     ]
    }
   ],
   "source": [
    "def is_palindrome(s):\n",
    "    s = s.lower() \n",
    "    if len(s) <= 1:\n",
    "        return True\n",
    "    elif s[0] != s[-1]:\n",
    "        return False\n",
    "    else:\n",
    "        return is_palindrome(s[1:-1])\n",
    "\n",
    "user_string = input(\"Enter a string: \")\n",
    "if is_palindrome(user_string):\n",
    "    print(\"It's a palindrome!\")\n",
    "else:\n",
    "    print(\"Not a palindrome.\")\n"
   ]
  },
  {
   "cell_type": "markdown",
   "metadata": {},
   "source": [
    "11. Create a recursive Python function to generate all possible combinations of a list of elements.\n"
   ]
  },
  {
   "cell_type": "code",
   "execution_count": 101,
   "metadata": {},
   "outputs": [
    {
     "name": "stdout",
     "output_type": "stream",
     "text": [
      "[]\n",
      "[3]\n",
      "[2]\n",
      "[2, 3]\n",
      "[1]\n",
      "[1, 3]\n",
      "[1, 2]\n",
      "[1, 2, 3]\n"
     ]
    }
   ],
   "source": [
    "def generate_combinations(elements, current_combination=[], index=0):\n",
    "    if index == len(elements):\n",
    "        print(current_combination)\n",
    "        return\n",
    "    # Exclude the current element\n",
    "    generate_combinations(elements, current_combination, index + 1)\n",
    "    # Include the current element\n",
    "    generate_combinations(elements, current_combination + [elements[index]], index + 1)\n",
    "\n",
    "my_list = [1, 2, 3]\n",
    "generate_combinations(my_list)\n"
   ]
  },
  {
   "cell_type": "markdown",
   "metadata": {},
   "source": [
    "### Basics of Functions"
   ]
  },
  {
   "cell_type": "markdown",
   "metadata": {},
   "source": [
    "1. What is a function in Python, and why is it used?\n"
   ]
  },
  {
   "cell_type": "markdown",
   "metadata": {},
   "source": [
    "* A function in Python is a reusable block of code that performs a specific task.\n",
    "* It allows you to organize your code, improve readability, and avoid redundancy.\n",
    "* Functions can take input (arguments) and produce output (return values)."
   ]
  },
  {
   "cell_type": "markdown",
   "metadata": {},
   "source": [
    "2. How do you define a function in Python? Provide an example.\n"
   ]
  },
  {
   "cell_type": "markdown",
   "metadata": {},
   "source": [
    "* To define a function, use the def keyword followed by the function name, parentheses, and a colon.\n",
    "* The function body (code block) is indented.\n",
    "* Example:"
   ]
  },
  {
   "cell_type": "code",
   "execution_count": 102,
   "metadata": {},
   "outputs": [
    {
     "name": "stdout",
     "output_type": "stream",
     "text": [
      "Hello, Alice!\n"
     ]
    }
   ],
   "source": [
    "def greet(name):\n",
    "    \"\"\"Prints a friendly greeting.\"\"\"\n",
    "    print(f\"Hello, {name}!\")\n",
    "\n",
    "# Function call\n",
    "greet(\"Alice\")"
   ]
  },
  {
   "cell_type": "markdown",
   "metadata": {},
   "source": [
    "3. Explain the difference between a function definition and a function call.\n"
   ]
  },
  {
   "cell_type": "markdown",
   "metadata": {},
   "source": [
    "* **Function Definition**: This is where you create the function. It includes the function name, parameters (if any), and the code to be executed when the function is called.\n",
    "* **Function Call**: This is when you actually use the function by invoking its name with appropriate arguments. The function executes its code and may return a value."
   ]
  },
  {
   "cell_type": "markdown",
   "metadata": {},
   "source": [
    "4. Write a Python program that defines a function to calculate the sum of two numbers and then\n",
    "calls the function.\n"
   ]
  },
  {
   "cell_type": "code",
   "execution_count": 103,
   "metadata": {},
   "outputs": [
    {
     "name": "stdout",
     "output_type": "stream",
     "text": [
      "Sum: 11.0\n"
     ]
    }
   ],
   "source": [
    "def add_numbers(a, b):\n",
    "    \"\"\"Returns the sum of two numbers.\"\"\"\n",
    "    return a + b\n",
    "\n",
    "num1 = float(input(\"Enter the first number: \"))\n",
    "num2 = float(input(\"Enter the second number: \"))\n",
    "result = add_numbers(num1, num2)\n",
    "print(f\"Sum: {result}\")"
   ]
  },
  {
   "cell_type": "markdown",
   "metadata": {},
   "source": [
    "5. What is a function signature, and what information does it typically include?\n"
   ]
  },
  {
   "cell_type": "markdown",
   "metadata": {},
   "source": [
    "A function signature includes:\n",
    "* The function name (add_numbers in the example above).\n",
    "* The parameter list (in parentheses, a and b).\n",
    "* Optionally, the return type (not explicitly specified in Python)."
   ]
  },
  {
   "cell_type": "markdown",
   "metadata": {},
   "source": [
    "6. Create a Python function that takes two arguments and returns their product"
   ]
  },
  {
   "cell_type": "code",
   "execution_count": 104,
   "metadata": {},
   "outputs": [
    {
     "name": "stdout",
     "output_type": "stream",
     "text": [
      "Product: 30.0\n"
     ]
    }
   ],
   "source": [
    "def multiply(a, b):\n",
    "    \"\"\"Returns the product of two numbers.\"\"\"\n",
    "    return a * b\n",
    "\n",
    "num1 = float(input(\"Enter the first number: \"))\n",
    "num2 = float(input(\"Enter the second number: \"))\n",
    "product = multiply(num1, num2)\n",
    "print(f\"Product: {product}\")"
   ]
  },
  {
   "cell_type": "markdown",
   "metadata": {},
   "source": [
    "### Function Parameters and Arguments"
   ]
  },
  {
   "cell_type": "markdown",
   "metadata": {},
   "source": [
    "1. Explain the concepts of formal parameters and actual arguments in Python functions.\n"
   ]
  },
  {
   "cell_type": "markdown",
   "metadata": {},
   "source": [
    "* **Formal Parameters (Parameters)**: These are placeholders in the function definition. They represent the values that the function expects to receive when called.\n",
    "*** Actual Arguments (Arguments)**: These are the actual values passed to the function when it is called. They correspond to the formal parameters.\n",
    "* Example:"
   ]
  },
  {
   "cell_type": "code",
   "execution_count": 105,
   "metadata": {},
   "outputs": [
    {
     "name": "stdout",
     "output_type": "stream",
     "text": [
      "Hello, Alice!\n"
     ]
    }
   ],
   "source": [
    "def greet(name):\n",
    "    print(f\"Hello, {name}!\")\n",
    "\n",
    "greet(\"Alice\") "
   ]
  },
  {
   "cell_type": "markdown",
   "metadata": {},
   "source": [
    "2. Write a Python program that defines a function with default argument values.\n"
   ]
  },
  {
   "cell_type": "code",
   "execution_count": 106,
   "metadata": {},
   "outputs": [
    {
     "name": "stdout",
     "output_type": "stream",
     "text": [
      "Hello, Guest!\n",
      "Hello, Alice!\n"
     ]
    }
   ],
   "source": [
    "def greet(name=\"Guest\"):\n",
    "    print(f\"Hello, {name}!\")\n",
    "\n",
    "greet()          \n",
    "greet(\"Alice\")   "
   ]
  },
  {
   "cell_type": "markdown",
   "metadata": {},
   "source": [
    "3. How do you use keyword arguments in Python function calls? Provide an example.\n"
   ]
  },
  {
   "cell_type": "markdown",
   "metadata": {},
   "source": [
    "* In Python, you can pass arguments by specifying the parameter names (keywords) explicitly.\n",
    "* This allows you to pass arguments in any order.\n",
    "* Example:"
   ]
  },
  {
   "cell_type": "code",
   "execution_count": 107,
   "metadata": {},
   "outputs": [
    {
     "name": "stdout",
     "output_type": "stream",
     "text": [
      "Buddy is a dog.\n"
     ]
    }
   ],
   "source": [
    "def describe_pet(name, animal_type):\n",
    "    print(f\"{name} is a {animal_type}.\")\n",
    "\n",
    "describe_pet(animal_type=\"dog\", name=\"Buddy\")"
   ]
  },
  {
   "cell_type": "markdown",
   "metadata": {},
   "source": [
    "4. Create a Python function that accepts a variable number of arguments and calculates their sum.\n"
   ]
  },
  {
   "cell_type": "markdown",
   "metadata": {},
   "source": [
    "* The *args syntax allows a function to accept a variable number of positional arguments.\n",
    "* It collects all additional positional arguments into a tuple.\n",
    "* Example:"
   ]
  },
  {
   "cell_type": "code",
   "execution_count": 5,
   "metadata": {},
   "outputs": [
    {
     "data": {
      "text/plain": [
       "15"
      ]
     },
     "execution_count": 5,
     "metadata": {},
     "output_type": "execute_result"
    }
   ],
   "source": [
    "def calculate_sum(*args):\n",
    "    return sum(args)\n",
    "\n",
    "calculate_sum(1, 2, 3, 4, 5)"
   ]
  },
  {
   "cell_type": "markdown",
   "metadata": {},
   "source": [
    "5. What is the purpose of the `*args` and `**kwargs` syntax in function parameter lists?\n"
   ]
  },
  {
   "cell_type": "markdown",
   "metadata": {},
   "source": [
    "* The **kwargs syntax allows a function to accept a variable number of keyword arguments.\n",
    "* It collects all additional keyword arguments into a dictionary.\n",
    "* Example:"
   ]
  },
  {
   "cell_type": "code",
   "execution_count": 6,
   "metadata": {},
   "outputs": [
    {
     "name": "stdout",
     "output_type": "stream",
     "text": [
      "name: Alice\n",
      "age: 30\n",
      "city: Wonderland\n"
     ]
    }
   ],
   "source": [
    "def print_info(**kwargs):\n",
    "    for key, value in kwargs.items():\n",
    "        print(f\"{key}: {value}\")\n",
    "\n",
    "print_info(name=\"Alice\", age=30, city=\"Wonderland\")"
   ]
  },
  {
   "cell_type": "markdown",
   "metadata": {},
   "source": [
    "### Return Values and Scoping"
   ]
  },
  {
   "cell_type": "markdown",
   "metadata": {},
   "source": [
    "1. Describe the role of the `return` statement in Python functions and provide examples.\n"
   ]
  },
  {
   "cell_type": "markdown",
   "metadata": {},
   "source": [
    "* The return statement is used in Python functions to specify the value that the function should produce as its result.\n",
    "* When a function encounters a return statement, it immediately exits, and the specified value (if any) is returned to the caller.\n",
    "* Example:\n"
   ]
  },
  {
   "cell_type": "code",
   "execution_count": 7,
   "metadata": {},
   "outputs": [
    {
     "name": "stdout",
     "output_type": "stream",
     "text": [
      "Sum: 8\n"
     ]
    }
   ],
   "source": [
    "def add(a, b):\n",
    "    return a + b\n",
    "\n",
    "result = add(3, 5)\n",
    "print(f\"Sum: {result}\")  "
   ]
  },
  {
   "cell_type": "markdown",
   "metadata": {},
   "source": [
    "2. Explain the concept of variable scope in Python, including local and global variables.\n"
   ]
  },
  {
   "cell_type": "markdown",
   "metadata": {},
   "source": [
    "Local Variables:\n",
    "* Variables defined within a function are local to that function.\n",
    "* They exist only within the function’s scope and are not accessible outside.\n",
    "\n",
    "Global Variables:\n",
    "* Variables defined outside any function (at the module level) are global.\n",
    "* They can be accessed from any function within the same module.\n",
    "* Example:"
   ]
  },
  {
   "cell_type": "code",
   "execution_count": 8,
   "metadata": {},
   "outputs": [
    {
     "name": "stdout",
     "output_type": "stream",
     "text": [
      "Global variable value: 42\n"
     ]
    }
   ],
   "source": [
    "global_var = 42\n",
    "\n",
    "def print_global():\n",
    "    print(f\"Global variable value: {global_var}\")\n",
    "\n",
    "print_global()  "
   ]
  },
  {
   "cell_type": "markdown",
   "metadata": {},
   "source": [
    "3. Write a Python program that demonstrates the use of global variables within functions.\n"
   ]
  },
  {
   "cell_type": "code",
   "execution_count": 9,
   "metadata": {},
   "outputs": [
    {
     "name": "stdout",
     "output_type": "stream",
     "text": [
      "Modified global variable value: 52\n"
     ]
    }
   ],
   "source": [
    "global_var = 42\n",
    "\n",
    "def modify_global():\n",
    "    global global_var\n",
    "    global_var += 10\n",
    "\n",
    "modify_global()\n",
    "print(f\"Modified global variable value: {global_var}\")  "
   ]
  },
  {
   "cell_type": "markdown",
   "metadata": {},
   "source": [
    "4. Create a Python function that calculates the factorial of a number and returns it.\n"
   ]
  },
  {
   "cell_type": "code",
   "execution_count": 10,
   "metadata": {},
   "outputs": [
    {
     "name": "stdout",
     "output_type": "stream",
     "text": [
      "Factorial: 120\n"
     ]
    }
   ],
   "source": [
    "def factorial(n):\n",
    "    if n == 0:\n",
    "        return 1\n",
    "    else:\n",
    "        return n * factorial(n - 1)\n",
    "\n",
    "user_input = int(input(\"Enter a non-negative integer: \"))\n",
    "print(f\"Factorial: {factorial(user_input)}\")"
   ]
  },
  {
   "cell_type": "markdown",
   "metadata": {},
   "source": [
    "5. How can you access variables defined outside a function from within the function?\n"
   ]
  },
  {
   "cell_type": "markdown",
   "metadata": {},
   "source": [
    "* To access variables defined outside a function, simply use their names within the function.\n",
    "* Example:"
   ]
  },
  {
   "cell_type": "code",
   "execution_count": 11,
   "metadata": {},
   "outputs": [
    {
     "name": "stdout",
     "output_type": "stream",
     "text": [
      "Outside variable value: 100\n"
     ]
    }
   ],
   "source": [
    "outside_var = 100\n",
    "\n",
    "def access_outside_var():\n",
    "    print(f\"Outside variable value: {outside_var}\")\n",
    "\n",
    "access_outside_var()  "
   ]
  },
  {
   "cell_type": "markdown",
   "metadata": {},
   "source": [
    "### Lambda Functions and Higher-Order Functions"
   ]
  },
  {
   "cell_type": "markdown",
   "metadata": {},
   "source": [
    "1. What are lambda functions in Python, and when are they typically used?\n"
   ]
  },
  {
   "cell_type": "markdown",
   "metadata": {},
   "source": [
    "* Lambda functions (also known as anonymous functions) are small, inline functions defined using the lambda keyword.\n",
    "* They are typically used for short, simple operations where a full function definition is unnecessary.\n",
    "* Example:"
   ]
  },
  {
   "cell_type": "code",
   "execution_count": 12,
   "metadata": {},
   "outputs": [
    {
     "name": "stdout",
     "output_type": "stream",
     "text": [
      "Result: 8\n"
     ]
    }
   ],
   "source": [
    "add = lambda x, y: x + y\n",
    "result = add(3, 5)\n",
    "print(f\"Result: {result}\")  "
   ]
  },
  {
   "cell_type": "markdown",
   "metadata": {},
   "source": [
    "2. Write a Python program that uses lambda functions to sort a list of tuples based on the second\n",
    "element.\n"
   ]
  },
  {
   "cell_type": "code",
   "execution_count": 13,
   "metadata": {},
   "outputs": [
    {
     "name": "stdout",
     "output_type": "stream",
     "text": [
      "[(3, 2), (4, 3), (1, 5), (2, 8)]\n"
     ]
    }
   ],
   "source": [
    "data = [(1, 5), (3, 2), (2, 8), (4, 3)]\n",
    "sorted_data = sorted(data, key=lambda x: x[1])\n",
    "print(sorted_data) "
   ]
  },
  {
   "cell_type": "markdown",
   "metadata": {},
   "source": [
    "3. Explain the concept of higher-order functions in Python, and provide an example.\n"
   ]
  },
  {
   "cell_type": "markdown",
   "metadata": {},
   "source": [
    "* Higher-order functions are functions that take other functions as arguments or return functions.\n",
    "* They allow you to abstract and generalize behavior.\n",
    "* Example:"
   ]
  },
  {
   "cell_type": "code",
   "execution_count": 14,
   "metadata": {},
   "outputs": [
    {
     "name": "stdout",
     "output_type": "stream",
     "text": [
      "Result: 12\n"
     ]
    }
   ],
   "source": [
    "def apply_operation(func, x, y):\n",
    "    return func(x, y)\n",
    "\n",
    "def multiply(a, b):\n",
    "    return a * b\n",
    "\n",
    "result = apply_operation(multiply, 3, 4)\n",
    "print(f\"Result: {result}\")  "
   ]
  },
  {
   "cell_type": "markdown",
   "metadata": {},
   "source": [
    "4. Create a Python function that takes a list of numbers and a function as arguments, applying the\n",
    "function to each element in the list.\n"
   ]
  },
  {
   "cell_type": "code",
   "execution_count": 15,
   "metadata": {},
   "outputs": [
    {
     "name": "stdout",
     "output_type": "stream",
     "text": [
      "[1, 4, 9, 16]\n"
     ]
    }
   ],
   "source": [
    "def apply_function(numbers, func):\n",
    "    return [func(num) for num in numbers]\n",
    "\n",
    "def square(x):\n",
    "    return x ** 2\n",
    "\n",
    "my_numbers = [1, 2, 3, 4]\n",
    "squared_values = apply_function(my_numbers, square)\n",
    "print(squared_values)  "
   ]
  },
  {
   "cell_type": "markdown",
   "metadata": {},
   "source": [
    "### Built-in Functions"
   ]
  },
  {
   "cell_type": "markdown",
   "metadata": {},
   "source": [
    "1. Describe the role of built-in functions like `len()`, `max()`, and `min()` in Python.\n"
   ]
  },
  {
   "cell_type": "markdown",
   "metadata": {},
   "source": [
    "* Built-in functions in Python are pre-defined functions that perform specific tasks.\n",
    "* They are part of the Python standard library and can be used directly without any additional imports.\n",
    "* Examples:\n",
    "    - len(iterable): Returns the number of items in an iterable (e.g., list, string, tuple).\n",
    "    - max(iterable): Returns the maximum value from an iterable.\n",
    "    - min(iterable): Returns the minimum value from an iterable."
   ]
  },
  {
   "cell_type": "markdown",
   "metadata": {},
   "source": [
    "2. Write a Python program that uses the `map()` function to apply a function to each element of a\n",
    "list.\n"
   ]
  },
  {
   "cell_type": "code",
   "execution_count": 16,
   "metadata": {},
   "outputs": [
    {
     "name": "stdout",
     "output_type": "stream",
     "text": [
      "[1, 4, 9, 16]\n"
     ]
    }
   ],
   "source": [
    "def square(x):\n",
    "    return x ** 2\n",
    "\n",
    "numbers = [1, 2, 3, 4]\n",
    "squared_numbers = list(map(square, numbers))\n",
    "print(squared_numbers)  "
   ]
  },
  {
   "cell_type": "markdown",
   "metadata": {},
   "source": [
    "3. How does the `filter()` function work in Python, and when would you use it?\n"
   ]
  },
  {
   "cell_type": "markdown",
   "metadata": {},
   "source": [
    "* The filter() function filters elements from an iterable based on a given condition (specified by a function).\n",
    "* It returns an iterator containing only the elements that satisfy the condition.\n",
    "* Use cases: Selecting even numbers, filtering prime numbers, removing None values, etc."
   ]
  },
  {
   "cell_type": "markdown",
   "metadata": {},
   "source": [
    "4. Create a Python program that uses the `reduce()` function to find the product of all elements in\n",
    "a list.\n"
   ]
  },
  {
   "cell_type": "code",
   "execution_count": 17,
   "metadata": {},
   "outputs": [
    {
     "name": "stdout",
     "output_type": "stream",
     "text": [
      "Product of list elements: 120\n"
     ]
    }
   ],
   "source": [
    "from functools import reduce\n",
    "\n",
    "def multiply(a, b):\n",
    "    return a * b\n",
    "\n",
    "numbers = [2, 3, 4, 5]\n",
    "product = reduce(multiply, numbers)\n",
    "print(f\"Product of list elements: {product}\")"
   ]
  },
  {
   "cell_type": "markdown",
   "metadata": {},
   "source": [
    "### Function Documentation and Best Practices"
   ]
  },
  {
   "cell_type": "markdown",
   "metadata": {},
   "source": [
    "1. Explain the purpose of docstrings in Python functions and how to write them."
   ]
  },
  {
   "cell_type": "markdown",
   "metadata": {},
   "source": [
    "1. Purpose of Docstrings:\n",
    "* A docstring (short for “documentation string”) is a string literal that provides documentation for a Python module, class, or function.\n",
    "* It serves as a human-readable description of what the code does, its purpose, and how to use it.\n",
    "* Docstrings are essential for:\n",
    "    - Code Readability: They help other developers (and even your future self) understand your code.\n",
    "    - Autogenerated Documentation: Tools like help() and documentation generators (e.g., Sphinx) use docstrings to create documentation.\n",
    "    - IDE and Editor Support: Many IDEs and text editors display docstrings as tooltips or in documentation panels.\n",
    "\n",
    "2. Writing Docstrings:\n",
    "* Place the docstring as the first statement within a function, class, or module.\n",
    "* Use triple quotes (''' or \"\"\") to create multi-line docstrings.\n",
    "* Follow the conventions (e.g., Google-style, NumPy-style, reStructuredText).\n",
    "* Include the following information:\n",
    "    - Brief summary of the function’s purpose.\n",
    "    - Parameters (if any) and their descriptions.\n",
    "    - Return value (if applicable) and its meaning.\n",
    "    - Any exceptions raised.\n",
    "    - Examples of usage (optional).\n",
    "    \n",
    "Example of a simple function with a docstring:"
   ]
  },
  {
   "cell_type": "code",
   "execution_count": 19,
   "metadata": {},
   "outputs": [
    {
     "data": {
      "text/plain": [
       "'Hello, Praveen!'"
      ]
     },
     "execution_count": 19,
     "metadata": {},
     "output_type": "execute_result"
    }
   ],
   "source": [
    "def greet(name):\n",
    "    \"\"\"\n",
    "    Greets a person by their name.\n",
    "\n",
    "    Args:\n",
    "        name (str): The name of the person to greet.\n",
    "\n",
    "    Returns:\n",
    "        str: A friendly greeting message.\n",
    "    \"\"\"\n",
    "    return f\"Hello, {name}!\"\n",
    "greet(\"Praveen\")"
   ]
  },
  {
   "cell_type": "markdown",
   "metadata": {},
   "source": [
    "2. Describe some best practices for naming function and variables in Python, including naming conventions and guidelines."
   ]
  },
  {
   "cell_type": "markdown",
   "metadata": {},
   "source": [
    "1. Descriptive and Meaningful Names:\n",
    "* Choose names that clearly convey the purpose or functionality of the function or variable.\n",
    "* Avoid single-letter or cryptic names (unless they are standard mathematical variables like i, j, or x).\n",
    "* Examples:\n",
    "    - Good: calculate_average, user_input, total_sales\n",
    "    -Avoid: func1, x, tmp\n",
    "\n",
    "2. Use Snake Case for Variables and Functions:\n",
    "* Use lowercase letters and underscores to separate words within a name.\n",
    "* Examples:\n",
    "    -word_count, total_amount, process_data\n",
    "\n",
    "3. Use Camel Case for Class Names:\n",
    "* Capitalize the first letter of each word (except the first word) without spaces.\n",
    "* Examples:\n",
    "    - MyClass, HttpRequest, UserData\n",
    "\n",
    "4. Avoid Reserved Words:\n",
    "* Do not use Python reserved words (e.g., if, else, while, class) as variable or function names.\n",
    "\n",
    "5. Be Consistent:\n",
    "* Maintain consistency throughout your codebase.\n",
    "* If you use a specific naming convention, stick to it across all functions and variables.\n",
    "\n",
    "6. Use Verb-Noun Pairing for Functions:\n",
    "* Start function names with a verb to indicate an action.\n",
    "* Examples:\n",
    "    - calculate_total, validate_input, generate_report\n",
    "\n",
    "7. Avoid Global Variables (When Possible):\n",
    "* Limit the use of global variables; prefer local variables within functions.\n",
    "* Global variables can lead to unintended side effects and make code harder to reason about.\n",
    "\n",
    "8. Avoid Single Underscores at the Beginning:\n",
    "* Although not strictly enforced, a single leading underscore (_variable) indicates that a variable or function is intended for internal use within a module.\n",
    "\n",
    "9. Use Double Underscores for Private Attributes:\n",
    "* A double leading underscore (__variable) indicates a private attribute (name mangling).\n",
    "* It’s not truly private but serves as a convention to avoid accidental name clashes.\n",
    "\n",
    "10. Use All Caps for Constants:\n",
    "* Constants (values that don’t change) should be in uppercase with underscores.\n",
    "* Examples:\n",
    "    - PI, MAX_LENGTH, DEFAULT_TIMEOUT"
   ]
  }
 ],
 "metadata": {
  "kernelspec": {
   "display_name": "ML",
   "language": "python",
   "name": "python3"
  },
  "language_info": {
   "codemirror_mode": {
    "name": "ipython",
    "version": 3
   },
   "file_extension": ".py",
   "mimetype": "text/x-python",
   "name": "python",
   "nbconvert_exporter": "python",
   "pygments_lexer": "ipython3",
   "version": "3.12.4"
  }
 },
 "nbformat": 4,
 "nbformat_minor": 2
}
